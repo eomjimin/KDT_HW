{
  "nbformat": 4,
  "nbformat_minor": 0,
  "metadata": {
    "colab": {
      "provenance": [],
      "toc_visible": true,
      "authorship_tag": "ABX9TyOR3vUPnRgV7H8Gk8Y+5JoS",
      "include_colab_link": true
    },
    "kernelspec": {
      "name": "python3",
      "display_name": "Python 3"
    },
    "language_info": {
      "name": "python"
    }
  },
  "cells": [
    {
      "cell_type": "markdown",
      "metadata": {
        "id": "view-in-github",
        "colab_type": "text"
      },
      "source": [
        "<a href=\"https://colab.research.google.com/github/eomjimin/KDT_HW/blob/main/%EC%A7%80%EB%8B%88%EB%AE%A4%EC%A7%81.ipynb\" target=\"_parent\"><img src=\"https://colab.research.google.com/assets/colab-badge.svg\" alt=\"Open In Colab\"/></a>"
      ]
    },
    {
      "cell_type": "code",
      "execution_count": 31,
      "metadata": {
        "id": "JBYWdjEZbWAk"
      },
      "outputs": [],
      "source": [
        "# 과제\n",
        "# 지니차트 1위에서 200위까지 크롤링\n",
        "# 반복문을 사용하여 크롤링\n",
        "# 엑셀로 내보내기 기능\n",
        "# 과제 제출은 GitHub로 내보내기\n",
        "import requests\n",
        "from bs4 import BeautifulSoup\n",
        "import time\n",
        "import pandas as pd\n",
        "\n",
        "Ranking = []\n",
        "\n",
        "def genieChart(num):\n",
        "    header = {'User-Agent': 'Mozilla/5.0 (Windows NT 10.0; Win64; x64) AppleWebKit'}\n",
        "    request = requests.get(f\"https://genie.co.kr/chart/top200?ditc=D&ymd=20231122&hh=14&rtm=Y&pg={num}\", headers=header)\n",
        "\n",
        "    soup = BeautifulSoup(request.text)\n",
        "    li = soup.find('table', {'class', 'list-wrap'})\n",
        "    infoAll = li.findAll('td', {'class', 'info'})\n",
        "\n",
        "    for info in infoAll:\n",
        "      dic = {\"title\": info.text.strip().split('\\n')[0], \"artist\": info.text.strip().split('\\n')[1]}\n",
        "      Ranking.append(dic)\n",
        "\n",
        "for i in range(5):\n",
        "    genieChart(i)\n",
        "    time.sleep(2)\n",
        "\n",
        "dt = pd.DataFrame(Ranking)\n",
        "dt.to_excel(\"Genie_Music.xlsx\")"
      ]
    }
  ]
}